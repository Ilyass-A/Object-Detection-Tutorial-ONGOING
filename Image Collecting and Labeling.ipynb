{
 "cells": [
  {
   "cell_type": "markdown",
   "id": "cf9b5cfa",
   "metadata": {},
   "source": [
    "# Image Collection and Labeling"
   ]
  },
  {
   "cell_type": "markdown",
   "id": "ca9a8802",
   "metadata": {},
   "source": [
    "#### 1. Import Dependencies "
   ]
  },
  {
   "cell_type": "code",
   "execution_count": 1,
   "id": "d910c161",
   "metadata": {},
   "outputs": [
    {
     "name": "stdout",
     "output_type": "stream",
     "text": [
      "Requirement already satisfied: opencv-python in c:\\users\\ilyass\\anaconda3\\lib\\site-packages (4.5.3.56)\n",
      "Requirement already satisfied: numpy>=1.17.3 in c:\\users\\ilyass\\anaconda3\\lib\\site-packages (from opencv-python) (1.19.5)\n"
     ]
    }
   ],
   "source": [
    "!pip install opencv-python"
   ]
  },
  {
   "cell_type": "code",
   "execution_count": 21,
   "id": "a03f5c9f",
   "metadata": {},
   "outputs": [],
   "source": [
    "#Import opencv\n",
    "import cv2\n",
    "\n",
    "#Import uuid (Universal Unique Identifier)\n",
    "import uuid\n",
    "\n",
    "#Import Operating System\n",
    "import os\n",
    "\n",
    "#Import time\n",
    "import time"
   ]
  },
  {
   "cell_type": "markdown",
   "id": "b11ccbc2",
   "metadata": {},
   "source": [
    "#### 2. Definition of Images to collect  "
   ]
  },
  {
   "cell_type": "code",
   "execution_count": 22,
   "id": "36e14871",
   "metadata": {},
   "outputs": [],
   "source": [
    "labels = ['smartphone', 'water_bottle', 'calculator', 'pen']\n",
    "\n",
    "# Capturing addtional images \n",
    "# labels = ['water_bottle']\n",
    "\n",
    "number_img = 5"
   ]
  },
  {
   "cell_type": "markdown",
   "id": "d6ae1b94",
   "metadata": {},
   "source": [
    "#### 3. Organasation and Creation of Folders "
   ]
  },
  {
   "cell_type": "code",
   "execution_count": 4,
   "id": "039cd4e6",
   "metadata": {},
   "outputs": [],
   "source": [
    "IMAGE_PATH = os.path.join('Tensorflow', 'Workspace','Images', 'Collected_images')"
   ]
  },
  {
   "cell_type": "code",
   "execution_count": 5,
   "id": "a9485338",
   "metadata": {},
   "outputs": [],
   "source": [
    "if not os.path.exists(IMAGE_PATH):\n",
    "    if os.name == 'posix':\n",
    "        !mkdir -p {IMAGE_PATH}\n",
    "    if os.name == 'nt':\n",
    "        !mkdir {IMAGE_PATH}\n",
    "for label in labels:\n",
    "    label_path = os.path.join(IMAGE_PATH, label)\n",
    "    if not os.path.exists(label_path):\n",
    "        !mkdir {label_path}   "
   ]
  },
  {
   "cell_type": "markdown",
   "id": "f94a4c87",
   "metadata": {},
   "source": [
    "#### 4. Capturation of images"
   ]
  },
  {
   "cell_type": "code",
   "execution_count": 8,
   "id": "0ebde9c1",
   "metadata": {
    "collapsed": true
   },
   "outputs": [
    {
     "name": "stdout",
     "output_type": "stream",
     "text": [
      "Collecting image for smartphone\n",
      "Collecting image 0\n",
      "Collecting image 1\n",
      "Collecting image 2\n",
      "Collecting image 3\n",
      "Collecting image 4\n",
      "Collecting image for water_bottle\n",
      "Collecting image 0\n",
      "Collecting image 1\n",
      "Collecting image 2\n",
      "Collecting image 3\n",
      "Collecting image 4\n",
      "Collecting image for calculator\n",
      "Collecting image 0\n",
      "Collecting image 1\n",
      "Collecting image 2\n",
      "Collecting image 3\n",
      "Collecting image 4\n",
      "Collecting image for pen\n",
      "Collecting image 0\n",
      "Collecting image 1\n",
      "Collecting image 2\n",
      "Collecting image 3\n",
      "Collecting image 4\n"
     ]
    }
   ],
   "source": [
    "for label in labels:\n",
    "    # Connection to the webcam\n",
    "    cap = cv2.VideoCapture(0) \n",
    "    \n",
    "    # Display current label \n",
    "    print(f'Collecting image for {label}')\n",
    "    \n",
    "    # time puffer (5 seconds)\n",
    "    time.sleep(5) \n",
    "    \n",
    "    # For each label five frmaes are recorded\n",
    "    for imgnum in range(number_img):\n",
    "        \n",
    "        print(f'Collecting image {imgnum}')\n",
    "        \n",
    "        # Capture frame-by-frame\n",
    "        ret, frame = cap.read()\n",
    "        \n",
    "        # Path where the frame will be saved\n",
    "        IMAGE_NAME = os.path.join(IMAGE_PATH, label,label + '.' + '{}.jpeg'.format(str(uuid.uuid1())))\n",
    "        \n",
    "        # Save frame\n",
    "        cv2.imwrite(IMAGE_NAME, frame) \n",
    "    \n",
    "        # Display the resulting frames\n",
    "        cv2.imshow('frame', frame)\n",
    "    \n",
    "        # Time puffer (2 seconds)\n",
    "        time.sleep(2) \n",
    "    \n",
    "        # Press character \"q\" on the keyboard to stop capturing frames from the camera\n",
    "        if cv2.waitKey(1) & 0xFF == ord('q'): # Explanation: https://stackoverflow.com/questions/53357877/usage-of-ordq-and-0xff/53357948\n",
    "            break\n",
    "\n",
    "# When everything done, release the capture   \n",
    "cap.release()\n",
    "\n",
    "# Destroy all created windows\n",
    "cv2.destroyAllWindows()    "
   ]
  },
  {
   "cell_type": "markdown",
   "id": "e59cbfa0",
   "metadata": {},
   "source": [
    "#### 5. Labeling images \n",
    "- More information: https://github.com/tzutalin/labelImg"
   ]
  },
  {
   "cell_type": "code",
   "execution_count": 16,
   "id": "2908213d",
   "metadata": {},
   "outputs": [
    {
     "name": "stdout",
     "output_type": "stream",
     "text": [
      "Requirement already satisfied: pyqt5 in c:\\users\\ilyass\\anaconda3\\lib\\site-packages (5.15.4)\n",
      "Requirement already satisfied: lxml in c:\\users\\ilyass\\anaconda3\\lib\\site-packages (4.6.3)\n",
      "Requirement already satisfied: PyQt5-Qt5>=5.15 in c:\\users\\ilyass\\anaconda3\\lib\\site-packages (from pyqt5) (5.15.2)\n",
      "Requirement already satisfied: PyQt5-sip<13,>=12.8 in c:\\users\\ilyass\\anaconda3\\lib\\site-packages (from pyqt5) (12.9.0)\n"
     ]
    }
   ],
   "source": [
    "!pip install --upgrade pyqt5 lxml"
   ]
  },
  {
   "cell_type": "code",
   "execution_count": 27,
   "id": "4d741559",
   "metadata": {
    "scrolled": true
   },
   "outputs": [],
   "source": [
    "# Setup path for labeled images\n",
    "LABELIMG_PATH = os.path.join('Tensorflow', 'labelimg')"
   ]
  },
  {
   "cell_type": "code",
   "execution_count": 28,
   "id": "cad5da69",
   "metadata": {},
   "outputs": [],
   "source": [
    "if not os.path.exists(LABELIMG_PATH):\n",
    "    \n",
    "    # Make directory\n",
    "    !mkdir {LABELIMG_PATH}\n",
    "    \n",
    "    # Clone git directory\n",
    "    !git clone https://github.com/tzutalin/labelImg {LABELIMG_PATH}"
   ]
  },
  {
   "cell_type": "code",
   "execution_count": 30,
   "id": "03883762",
   "metadata": {},
   "outputs": [],
   "source": [
    "# Installation of labelimg for Linux\n",
    "if os.name == 'posix':\n",
    "    !make qt5py3\n",
    "\n",
    "# Installation of labelimg for Windows\n",
    "if os.name == 'nt':\n",
    "    !cd {LABELIMG_PATH} && pyrcc5 -o libs/resources.py resources.qrc"
   ]
  },
  {
   "cell_type": "code",
   "execution_count": 32,
   "id": "ced2d6ad",
   "metadata": {
    "collapsed": true
   },
   "outputs": [
    {
     "name": "stdout",
     "output_type": "stream",
     "text": [
      "Cancel creation.\n",
      "Image:C:\\Users\\Ilyass\\Desktop\\Object Detection Model\\Tensorflow\\Workspace\\Images\\Collected_images\\calculator\\calculator.1ad29364-0f03-11ec-9985-a497b15fc844.jpeg -> Annotation:C:/Users/Ilyass/Desktop/Object Detection Model/Tensorflow/Workspace/Images/Collected_images/calculator\\calculator.1ad29364-0f03-11ec-9985-a497b15fc844.xml\n"
     ]
    },
    {
     "name": "stderr",
     "output_type": "stream",
     "text": [
      "labelImg.py:965: DeprecationWarning: an integer is required (got type float).  Implicit conversion to integers using __int__ is deprecated, and may be removed in a future version of Python.\n",
      "  bar.setValue(bar.value() + bar.singleStep() * units)\n",
      "labelImg.py:971: DeprecationWarning: an integer is required (got type float).  Implicit conversion to integers using __int__ is deprecated, and may be removed in a future version of Python.\n",
      "  self.zoom_widget.setValue(value)\n",
      "labelImg.py:1025: DeprecationWarning: an integer is required (got type float).  Implicit conversion to integers using __int__ is deprecated, and may be removed in a future version of Python.\n",
      "  h_bar.setValue(new_h_bar_value)\n",
      "labelImg.py:1026: DeprecationWarning: an integer is required (got type float).  Implicit conversion to integers using __int__ is deprecated, and may be removed in a future version of Python.\n",
      "  v_bar.setValue(new_v_bar_value)\n"
     ]
    },
    {
     "name": "stdout",
     "output_type": "stream",
     "text": [
      "Cancel creation.\n",
      "Cancel creation.\n",
      "Image:C:\\Users\\Ilyass\\Desktop\\Object Detection Model\\Tensorflow\\Workspace\\Images\\Collected_images\\calculator\\calculator.1c09f3ce-0f03-11ec-8796-a497b15fc844.jpeg -> Annotation:C:/Users/Ilyass/Desktop/Object Detection Model/Tensorflow/Workspace/Images/Collected_images/calculator\\calculator.1c09f3ce-0f03-11ec-8796-a497b15fc844.xml\n",
      "Image:C:\\Users\\Ilyass\\Desktop\\Object Detection Model\\Tensorflow\\Workspace\\Images\\Collected_images\\calculator\\calculator.1d40db20-0f03-11ec-8aab-a497b15fc844.jpeg -> Annotation:C:/Users/Ilyass/Desktop/Object Detection Model/Tensorflow/Workspace/Images/Collected_images/calculator\\calculator.1d40db20-0f03-11ec-8aab-a497b15fc844.xml\n",
      "Cancel creation.\n",
      "Image:C:\\Users\\Ilyass\\Desktop\\Object Detection Model\\Tensorflow\\Workspace\\Images\\Collected_images\\calculator\\calculator.fa8b8212-0f04-11ec-9a82-a497b15fc844.jpeg -> Annotation:C:/Users/Ilyass/Desktop/Object Detection Model/Tensorflow/Workspace/Images/Collected_images/calculator\\calculator.fa8b8212-0f04-11ec-9a82-a497b15fc844.xml\n",
      "Image:C:\\Users\\Ilyass\\Desktop\\Object Detection Model\\Tensorflow\\Workspace\\Images\\Collected_images\\calculator\\calculator.fbc17684-0f04-11ec-9fcb-a497b15fc844.jpeg -> Annotation:C:/Users/Ilyass/Desktop/Object Detection Model/Tensorflow/Workspace/Images/Collected_images/calculator\\calculator.fbc17684-0f04-11ec-9fcb-a497b15fc844.xml\n",
      "Image:C:\\Users\\Ilyass\\Desktop\\Object Detection Model\\Tensorflow\\Workspace\\Images\\Collected_images\\pen\\pen.03d1a27c-0f05-11ec-946d-a497b15fc844.jpeg -> Annotation:C:/Users/Ilyass/Desktop/Object Detection Model/Tensorflow/Workspace/Images/Collected_images/calculator\\pen.03d1a27c-0f05-11ec-946d-a497b15fc844.xml\n",
      "Image:C:\\Users\\Ilyass\\Desktop\\Object Detection Model\\Tensorflow\\Workspace\\Images\\Collected_images\\pen\\pen.029a5273-0f05-11ec-8872-a497b15fc844.jpeg -> Annotation:C:/Users/Ilyass/Desktop/Object Detection Model/Tensorflow/Workspace/Images/Collected_images/calculator\\pen.029a5273-0f05-11ec-8872-a497b15fc844.xml\n",
      "Cancel creation.\n",
      "Image:C:\\Users\\Ilyass\\Desktop\\Object Detection Model\\Tensorflow\\Workspace\\Images\\Collected_images\\pen\\pen.07791d0e-0f05-11ec-883b-a497b15fc844.jpeg -> Annotation:C:/Users/Ilyass/Desktop/Object Detection Model/Tensorflow/Workspace/Images/Collected_images/calculator\\pen.07791d0e-0f05-11ec-883b-a497b15fc844.xml\n",
      "Image:C:\\Users\\Ilyass\\Desktop\\Object Detection Model\\Tensorflow\\Workspace\\Images\\Collected_images\\pen\\pen.ad1ed262-0f02-11ec-a0df-a497b15fc844.jpeg -> Annotation:C:/Users/Ilyass/Desktop/Object Detection Model/Tensorflow/Workspace/Images/Collected_images/calculator\\pen.ad1ed262-0f02-11ec-a0df-a497b15fc844.xml\n",
      "Image:C:\\Users\\Ilyass\\Desktop\\Object Detection Model\\Tensorflow\\Workspace\\Images\\Collected_images\\pen\\pen.af91d275-0f02-11ec-bf58-a497b15fc844.jpeg -> Annotation:C:/Users/Ilyass/Desktop/Object Detection Model/Tensorflow/Workspace/Images/Collected_images/calculator\\pen.af91d275-0f02-11ec-bf58-a497b15fc844.xml\n",
      "Image:C:\\Users\\Ilyass\\Desktop\\Object Detection Model\\Tensorflow\\Workspace\\Images\\Collected_images\\smartphone\\smartphone.05bdb521-0f03-11ec-9908-a497b15fc844.jpeg -> Annotation:C:/Users/Ilyass/Desktop/Object Detection Model/Tensorflow/Workspace/Images/Collected_images/calculator\\smartphone.05bdb521-0f03-11ec-9908-a497b15fc844.xml\n",
      "Image:C:\\Users\\Ilyass\\Desktop\\Object Detection Model\\Tensorflow\\Workspace\\Images\\Collected_images\\smartphone\\smartphone.8eb80b3a-0f02-11ec-b26e-a497b15fc844.jpeg -> Annotation:C:/Users/Ilyass/Desktop/Object Detection Model/Tensorflow/Workspace/Images/Collected_images/calculator\\smartphone.8eb80b3a-0f02-11ec-b26e-a497b15fc844.xml\n",
      "Image:C:\\Users\\Ilyass\\Desktop\\Object Detection Model\\Tensorflow\\Workspace\\Images\\Collected_images\\smartphone\\smartphone.0484009f-0f03-11ec-af94-a497b15fc844.jpeg -> Annotation:C:/Users/Ilyass/Desktop/Object Detection Model/Tensorflow/Workspace/Images/Collected_images/calculator\\smartphone.0484009f-0f03-11ec-af94-a497b15fc844.xml\n",
      "Image:C:\\Users\\Ilyass\\Desktop\\Object Detection Model\\Tensorflow\\Workspace\\Images\\Collected_images\\smartphone\\smartphone.e7cbf2d0-0f04-11ec-89aa-a497b15fc844.jpeg -> Annotation:C:/Users/Ilyass/Desktop/Object Detection Model/Tensorflow/Workspace/Images/Collected_images/calculator\\smartphone.e7cbf2d0-0f04-11ec-89aa-a497b15fc844.xml\n",
      "Image:C:\\Users\\Ilyass\\Desktop\\Object Detection Model\\Tensorflow\\Workspace\\Images\\Collected_images\\smartphone\\smartphone.e42078b6-0f04-11ec-9ff2-a497b15fc844.jpeg -> Annotation:C:/Users/Ilyass/Desktop/Object Detection Model/Tensorflow/Workspace/Images/Collected_images/calculator\\smartphone.e42078b6-0f04-11ec-9ff2-a497b15fc844.xml\n",
      "Image:C:\\Users\\Ilyass\\Desktop\\Object Detection Model\\Tensorflow\\Workspace\\Images\\Collected_images\\water_bottle\\water_bottle.12bbe0a2-0f03-11ec-93a4-a497b15fc844.jpeg -> Annotation:C:/Users/Ilyass/Desktop/Object Detection Model/Tensorflow/Workspace/Images/Collected_images/calculator\\water_bottle.12bbe0a2-0f03-11ec-93a4-a497b15fc844.xml\n",
      "Image:C:\\Users\\Ilyass\\Desktop\\Object Detection Model\\Tensorflow\\Workspace\\Images\\Collected_images\\water_bottle\\water_bottle.11841cb3-0f03-11ec-8855-a497b15fc844.jpeg -> Annotation:C:/Users/Ilyass/Desktop/Object Detection Model/Tensorflow/Workspace/Images/Collected_images/calculator\\water_bottle.11841cb3-0f03-11ec-8855-a497b15fc844.xml\n",
      "Image:C:\\Users\\Ilyass\\Desktop\\Object Detection Model\\Tensorflow\\Workspace\\Images\\Collected_images\\water_bottle\\water_bottle.efef4639-0f04-11ec-b59d-a497b15fc844.jpeg -> Annotation:C:/Users/Ilyass/Desktop/Object Detection Model/Tensorflow/Workspace/Images/Collected_images/calculator\\water_bottle.efef4639-0f04-11ec-b59d-a497b15fc844.xml\n",
      "Image:C:\\Users\\Ilyass\\Desktop\\Object Detection Model\\Tensorflow\\Workspace\\Images\\Collected_images\\water_bottle\\water_bottle.f2619a0d-0f04-11ec-a46d-a497b15fc844.jpeg -> Annotation:C:/Users/Ilyass/Desktop/Object Detection Model/Tensorflow/Workspace/Images/Collected_images/calculator\\water_bottle.f2619a0d-0f04-11ec-a46d-a497b15fc844.xml\n",
      "Image:C:\\Users\\Ilyass\\Desktop\\Object Detection Model\\Tensorflow\\Workspace\\Images\\Collected_images\\water_bottle\\water_bottle.f1250143-0f04-11ec-983b-a497b15fc844.jpeg -> Annotation:C:/Users/Ilyass/Desktop/Object Detection Model/Tensorflow/Workspace/Images/Collected_images/calculator\\water_bottle.f1250143-0f04-11ec-983b-a497b15fc844.xml\n"
     ]
    }
   ],
   "source": [
    "# Open labelImg program\n",
    "!cd {LABELIMG_PATH} && python labelImg.py"
   ]
  }
 ],
 "metadata": {
  "kernelspec": {
   "display_name": "obdec",
   "language": "python",
   "name": "obdec"
  },
  "language_info": {
   "codemirror_mode": {
    "name": "ipython",
    "version": 3
   },
   "file_extension": ".py",
   "mimetype": "text/x-python",
   "name": "python",
   "nbconvert_exporter": "python",
   "pygments_lexer": "ipython3",
   "version": "3.8.8"
  }
 },
 "nbformat": 4,
 "nbformat_minor": 5
}
